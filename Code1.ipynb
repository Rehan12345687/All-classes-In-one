{
 "cells": [
  {
   "cell_type": "code",
   "execution_count": 2,
   "id": "46d703b9-2c2b-494a-9aa5-4dc7da2e9935",
   "metadata": {},
   "outputs": [
    {
     "name": "stdout",
     "output_type": "stream",
     "text": [
      "hi\n"
     ]
    }
   ],
   "source": [
    "x = 'hi'\n",
    "print(x)"
   ]
  },
  {
   "cell_type": "code",
   "execution_count": 12,
   "id": "cf432dc9-4376-4e24-9a16-3304549bf792",
   "metadata": {},
   "outputs": [
    {
     "name": "stdout",
     "output_type": "stream",
     "text": [
      "Hi\n"
     ]
    }
   ],
   "source": [
    "# Adding a .title() will make the first letter of the variable capital\n",
    "print(x.title())"
   ]
  },
  {
   "cell_type": "code",
   "execution_count": 14,
   "id": "c7eab7ec-de33-42b3-bf91-275f708b9ab6",
   "metadata": {},
   "outputs": [
    {
     "name": "stdout",
     "output_type": "stream",
     "text": [
      "HI\n"
     ]
    }
   ],
   "source": [
    "# Adding a .upper() will make the entire variable value capital\n",
    "print(x.upper())"
   ]
  },
  {
   "cell_type": "code",
   "execution_count": 16,
   "id": "0c2790a8-f609-4e35-b886-8bae3ed28b46",
   "metadata": {},
   "outputs": [
    {
     "name": "stdout",
     "output_type": "stream",
     "text": [
      "hi\n"
     ]
    }
   ],
   "source": [
    "# Adding a .lower() will make it all lower case\n",
    "print(x.lower())"
   ]
  },
  {
   "cell_type": "code",
   "execution_count": 18,
   "id": "57aac39a-c86d-40b5-b7fa-cd4d83b92258",
   "metadata": {},
   "outputs": [],
   "source": [
    "# ================================================================================================="
   ]
  },
  {
   "cell_type": "code",
   "execution_count": 28,
   "id": "eafd53d2-c1b8-4724-94e1-f6d31f8291cc",
   "metadata": {},
   "outputs": [
    {
     "name": "stdout",
     "output_type": "stream",
     "text": [
      "abc abcd\n"
     ]
    }
   ],
   "source": [
    "# How to merge variables while printing\n",
    "firstname = 'abc'\n",
    "lastname = 'abcd'\n",
    "fullname = f\"{firstname} {lastname}\"\n",
    "print(fullname)"
   ]
  },
  {
   "cell_type": "code",
   "execution_count": 32,
   "id": "fb48c37e-13da-4253-8050-493cd872b13c",
   "metadata": {},
   "outputs": [
    {
     "name": "stdout",
     "output_type": "stream",
     "text": [
      "keep up the good work Abc Abcd\n"
     ]
    }
   ],
   "source": [
    "# How to do this :\n",
    "message = f\"keep up the good work {fullname.title()}\"\n",
    "print(message)"
   ]
  },
  {
   "cell_type": "code",
   "execution_count": 36,
   "id": "29b76864-85e8-484f-8ae2-e68489ff9d55",
   "metadata": {},
   "outputs": [
    {
     "data": {
      "text/plain": [
       "'abc'"
      ]
     },
     "execution_count": 36,
     "metadata": {},
     "output_type": "execute_result"
    }
   ],
   "source": [
    "# How to delete spaces from left side\n",
    "firstname.lstrip()"
   ]
  },
  {
   "cell_type": "code",
   "execution_count": 38,
   "id": "00a471df-9d35-4220-9e81-e674efcc0b6f",
   "metadata": {},
   "outputs": [
    {
     "data": {
      "text/plain": [
       "'abc'"
      ]
     },
     "execution_count": 38,
     "metadata": {},
     "output_type": "execute_result"
    }
   ],
   "source": [
    "# How to delete spaces from right side\n",
    "firstname.rstrip()"
   ]
  },
  {
   "cell_type": "code",
   "execution_count": 40,
   "id": "f095e36b-51b5-4ef4-8721-ba08495aba58",
   "metadata": {},
   "outputs": [
    {
     "data": {
      "text/plain": [
       "'abc'"
      ]
     },
     "execution_count": 40,
     "metadata": {},
     "output_type": "execute_result"
    }
   ],
   "source": [
    "# How to delete ALL spaces\n",
    "firstname.strip()"
   ]
  },
  {
   "cell_type": "code",
   "execution_count": 42,
   "id": "9e0bb9e9-d045-4570-a551-589ca73cd5a9",
   "metadata": {},
   "outputs": [],
   "source": [
    "# ==================================================================================================="
   ]
  },
  {
   "cell_type": "code",
   "execution_count": 44,
   "id": "6b48690f-be10-4d05-89dc-97912fef9b8e",
   "metadata": {},
   "outputs": [],
   "source": [
    "# LISTS :-"
   ]
  },
  {
   "cell_type": "code",
   "execution_count": 66,
   "id": "1ff76fe3-daa8-473f-9908-b2b6bbce8555",
   "metadata": {},
   "outputs": [
    {
     "name": "stdout",
     "output_type": "stream",
     "text": [
      "['Hello', 'Hi', 'Yey']\n"
     ]
    }
   ],
   "source": [
    "list1 = ['Hello', 'Hi', 'Yey']\n",
    "print(list1)"
   ]
  },
  {
   "cell_type": "code",
   "execution_count": 68,
   "id": "7b78e3da-6152-4485-99c8-d583d07788c9",
   "metadata": {},
   "outputs": [
    {
     "name": "stdout",
     "output_type": "stream",
     "text": [
      "['Hello', 'Hi', 'Yey', 'Yes']\n"
     ]
    }
   ],
   "source": [
    "# How to add a value in a list\n",
    "list1.append('Yes')\n",
    "print(list1)"
   ]
  },
  {
   "cell_type": "code",
   "execution_count": 70,
   "id": "ba827731-5f1b-425e-babf-12281c64eaff",
   "metadata": {},
   "outputs": [
    {
     "name": "stdout",
     "output_type": "stream",
     "text": [
      "['Hello', 'Hi', 'No', 'Yey', 'Yes']\n"
     ]
    }
   ],
   "source": [
    "# How to add a value at specific index\n",
    "list1.insert(2, 'No')\n",
    "print(list1)"
   ]
  },
  {
   "cell_type": "code",
   "execution_count": 72,
   "id": "15dcb794-bd0c-48dd-8906-3124a24aa99f",
   "metadata": {},
   "outputs": [
    {
     "name": "stdout",
     "output_type": "stream",
     "text": [
      "Yey\n"
     ]
    }
   ],
   "source": [
    "# How to print specific index\n",
    "print(list1[3])"
   ]
  },
  {
   "cell_type": "code",
   "execution_count": 74,
   "id": "e9c058ab-a32f-42c4-b2c6-071389321b0b",
   "metadata": {},
   "outputs": [
    {
     "name": "stdout",
     "output_type": "stream",
     "text": [
      "Yey\n"
     ]
    }
   ],
   "source": [
    "# And u can even beautify it, Example, Title(), Uppercase(), Lowercase()\n",
    "print(list1[3].title())"
   ]
  },
  {
   "cell_type": "code",
   "execution_count": 76,
   "id": "b1eaf9b4-2d87-43a0-a1bf-7d35820127a3",
   "metadata": {},
   "outputs": [
    {
     "name": "stdout",
     "output_type": "stream",
     "text": [
      "['Hello', 'Hiii', 'No', 'Yey', 'Yes']\n"
     ]
    }
   ],
   "source": [
    "# How to edit a value\n",
    "list1[1] = 'Hiii'\n",
    "print(list1)\n",
    "# As u can see, it was Hi and it became Hiii"
   ]
  },
  {
   "cell_type": "code",
   "execution_count": 112,
   "id": "adb3632f-7351-4b9b-acf1-a58be04dcc37",
   "metadata": {},
   "outputs": [],
   "source": [
    "# ================================================================================================"
   ]
  },
  {
   "cell_type": "code",
   "execution_count": 86,
   "id": "ec0b0e43-8b9f-4811-b923-6de2b84c46da",
   "metadata": {},
   "outputs": [
    {
     "name": "stdout",
     "output_type": "stream",
     "text": [
      "['s1', 's3', 's5', 's7', 's9']\n"
     ]
    }
   ],
   "source": [
    "# Slicing the list\n",
    "# [Start_Value:Stop_Value:Step_Count]\n",
    "students = ['s1', 's2', 's3', 's4', 's5', 's6', 's7', 's8', 's9', 's10']\n",
    "print(students[0:9:2])"
   ]
  },
  {
   "cell_type": "code",
   "execution_count": 88,
   "id": "94293672-071d-4925-990f-54f8a95963b4",
   "metadata": {},
   "outputs": [
    {
     "name": "stdout",
     "output_type": "stream",
     "text": [
      "Keep up the good work s4\n"
     ]
    }
   ],
   "source": [
    "# I want to compliment my student, Then\n",
    "message = f\"Keep up the good work {students[3]}\"\n",
    "print(message)"
   ]
  },
  {
   "cell_type": "code",
   "execution_count": 102,
   "id": "c69126ca-996c-4ec5-9921-4cdcf9871476",
   "metadata": {},
   "outputs": [
    {
     "name": "stdout",
     "output_type": "stream",
     "text": [
      "Keep up the good work s1\n",
      "Keep up the good work s2\n",
      "Keep up the good work s3\n",
      "Keep up the good work s4\n",
      "Keep up the good work s5\n",
      "Keep up the good work s6\n",
      "Keep up the good work s7\n",
      "Keep up the good work s8\n",
      "Keep up the good work s9\n",
      "Keep up the good work s10\n",
      "s10\n"
     ]
    }
   ],
   "source": [
    "# I want to compliment to all of them, Then I'll be using this method -->\n",
    "# For TempVar in Main var -------->\n",
    "for x in students:\n",
    "    print(f\"Keep up the good work {x}\")\n",
    "print(x)"
   ]
  },
  {
   "cell_type": "code",
   "execution_count": 80,
   "id": "967f0d99-bf0b-4d77-8086-58ff1c9c0902",
   "metadata": {},
   "outputs": [
    {
     "name": "stdout",
     "output_type": "stream",
     "text": [
      "['Hello', 'Hiii', 'No', 'Yey', 'Yes']\n"
     ]
    }
   ],
   "source": [
    "# Step count means the amount of index you want to skip\n",
    "# Stop count is the index u want to stop at\n",
    "# Start count is the index from where you will start\n",
    "print(list1)"
   ]
  },
  {
   "cell_type": "code",
   "execution_count": 82,
   "id": "ff610eb0-e5cc-4b32-879a-2cc701eac17f",
   "metadata": {},
   "outputs": [
    {
     "name": "stdout",
     "output_type": "stream",
     "text": [
      "['Hello', 'Hiii', 'No', 'Yes', 'Yey']\n"
     ]
    }
   ],
   "source": [
    "# How to make list in alphabetical order\n",
    "# 1. Temporary approach\n",
    "# 2. Permanent approach\n",
    "# Now how to do temporary approach\n",
    "print(sorted(list1))\n",
    "# As u can see, its in alphabetical order"
   ]
  },
  {
   "cell_type": "code",
   "execution_count": 84,
   "id": "109efe2f-4217-4ebc-bfab-9a37dd86865d",
   "metadata": {},
   "outputs": [
    {
     "name": "stdout",
     "output_type": "stream",
     "text": [
      "['Hello', 'Hiii', 'No', 'Yes', 'Yey']\n"
     ]
    }
   ],
   "source": [
    "# Now permanent approach, will totally make the list in A ----> Z order\n",
    "list1.sort()\n",
    "print(list1)"
   ]
  },
  {
   "cell_type": "code",
   "execution_count": null,
   "id": "16d7b781-ff4b-48a6-80fd-72bcba0994f2",
   "metadata": {},
   "outputs": [],
   "source": [
    "# ================================================================================"
   ]
  },
  {
   "cell_type": "code",
   "execution_count": 104,
   "id": "40ebc668-dec8-486e-8f78-a157e3386891",
   "metadata": {},
   "outputs": [
    {
     "name": "stdout",
     "output_type": "stream",
     "text": [
      "('Boy', 'Girl', 'Woman', 'Man')\n"
     ]
    }
   ],
   "source": [
    "# Now we'll be seeing about TUPLES\n",
    "# Tuples are just like list, but their values can't be changed, edit, or moved, Its permanent in every aspect.\n",
    "# In tuple we use Circular brackets () in place of []\n",
    "tuple1 = ('Boy', 'Girl', 'Woman', 'Man')\n",
    "print(tuple1)"
   ]
  },
  {
   "cell_type": "code",
   "execution_count": 106,
   "id": "0d3102b5-b660-443d-b2e7-5033fa2233b5",
   "metadata": {},
   "outputs": [],
   "source": [
    "# ====================================================================================================="
   ]
  },
  {
   "cell_type": "code",
   "execution_count": 10,
   "id": "e9d3e622-5426-4a96-b4ca-b28b74dee014",
   "metadata": {},
   "outputs": [
    {
     "name": "stdout",
     "output_type": "stream",
     "text": [
      "{'color': 'green', 'points': '5'}\n"
     ]
    }
   ],
   "source": [
    "# Now we'll learn about python dictionaries\n",
    "# Dictionary is a mutable datatye and can be edited\n",
    "# Dictionary is a combination of key value pairs\n",
    "# Dictionary is defined in curly brackets {}\n",
    "alien =  {'color':'green', 'points': '5'}\n",
    "print(alien)"
   ]
  },
  {
   "cell_type": "code",
   "execution_count": 12,
   "id": "eaa22c0f-a063-438c-ab50-123f521f568b",
   "metadata": {},
   "outputs": [
    {
     "name": "stdout",
     "output_type": "stream",
     "text": [
      "green\n"
     ]
    }
   ],
   "source": [
    "# How to accesss elements\n",
    "print(alien['color'])"
   ]
  },
  {
   "cell_type": "code",
   "execution_count": null,
   "id": "d84a0b82-d2b1-452b-90cd-494bebb4040f",
   "metadata": {},
   "outputs": [],
   "source": []
  }
 ],
 "metadata": {
  "kernelspec": {
   "display_name": "Python 3 (ipykernel)",
   "language": "python",
   "name": "python3"
  },
  "language_info": {
   "codemirror_mode": {
    "name": "ipython",
    "version": 3
   },
   "file_extension": ".py",
   "mimetype": "text/x-python",
   "name": "python",
   "nbconvert_exporter": "python",
   "pygments_lexer": "ipython3",
   "version": "3.12.4"
  }
 },
 "nbformat": 4,
 "nbformat_minor": 5
}
